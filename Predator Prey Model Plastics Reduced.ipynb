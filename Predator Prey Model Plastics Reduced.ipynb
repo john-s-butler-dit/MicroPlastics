{
 "cells": [
  {
   "cell_type": "markdown",
   "metadata": {},
   "source": [
    "# Microplastic as Prey\n",
    "\n",
    "Aleksandra Samotyja, Gordon Chambers, [John S Butler](johnsbutler.netlify.com)\n",
    "\n",
    "TU Dublin"
   ]
  },
  {
   "cell_type": "markdown",
   "metadata": {},
   "source": [
    "# Introduction\n",
    "This webpage will describe a mathematical model that simulates impact of the introduction of microplastics on fish and salmon population using Python.\n",
    "The webpage is divided into six parts:\n",
    "* The first section outlines the normal predator prey interaction first observed in hare and lynx;\n",
    "* The second section  will mathematically model the predator-prey relationship of salmon and small fish; \n",
    "* The third section describes and models the growth of the human population and increase in the production of microplastics; \n",
    "* The fourth section describes the impact of microplastics on the small fish, salmon and human population; \n",
    "* The fifth section shows the results of the simulations of the ecosystem  for different levels of plastic production rates;\n",
    "* The final section presents some questions that arise from this problem.\n",
    "\n",
    "The webpage is written such that it can be read by some one with no programming experience but if you want to read the code you can click on the button below."
   ]
  },
  {
   "cell_type": "code",
   "execution_count": 1,
   "metadata": {},
   "outputs": [
    {
     "ename": "SyntaxError",
     "evalue": "from __future__ imports must occur at the beginning of the file (<ipython-input-1-6c5fc4bc23b4>, line 12)",
     "output_type": "error",
     "traceback": [
      "\u001b[0;36m  File \u001b[0;32m\"<ipython-input-1-6c5fc4bc23b4>\"\u001b[0;36m, line \u001b[0;32m12\u001b[0m\n\u001b[0;31m    plastic_widget1 = widgets.FloatSlider(min=0.001, max=1, step=0.01,value=0.1)\u001b[0m\n\u001b[0m           ^\u001b[0m\n\u001b[0;31mSyntaxError\u001b[0m\u001b[0;31m:\u001b[0m from __future__ imports must occur at the beginning of the file\n"
     ]
    }
   ],
   "source": [
    "import numpy as np\n",
    "import math \n",
    "\n",
    "%matplotlib inline\n",
    "import matplotlib.pyplot as plt # side-stepping mpl backend\n",
    "import matplotlib.gridspec as gridspec # subplots\n",
    "import warnings\n",
    "warnings.filterwarnings(\"ignore\")\n",
    "from __future__ import print_function\n",
    "from ipywidgets import interact, interactive, fixed, interact_manual\n",
    "import ipywidgets as widgets\n",
    "plastic_widget1 = widgets.FloatSlider(min=0.001, max=1, step=0.01,value=0.1)\n",
    "plastic_widget = widgets.FloatSlider(min=0.001, max=1, step=0.01,value=0.1)\n",
    "from IPython.display import HTML\n",
    "\n",
    "HTML('''<script>\n",
    "code_show=true; \n",
    "function code_toggle() {\n",
    " if (code_show){\n",
    " $('div.input').hide();\n",
    " } else {\n",
    " $('div.input').show();\n",
    " }\n",
    " code_show = !code_show\n",
    "} \n",
    "$( document ).ready(code_toggle);\n",
    "</script>\n",
    "<form action=\"javascript:code_toggle()\"><input type=\"submit\" value=\"Click here to toggle on/off the raw code.\"></form>''')"
   ]
  },
  {
   "cell_type": "markdown",
   "metadata": {},
   "source": [
    "# Predator Prey \n",
    "## Predators and prey\n",
    "The cyclical relationship of Predators and Prey in the wild  means that when there is an abundance of prey, the predators will eat more and the prey population will increase. On the other hand, if there is a shortage in the number of prey, the number of predators will decrease due to the scaricty of food source [1]. \n"
   ]
  },
  {
   "cell_type": "markdown",
   "metadata": {},
   "source": [
    "## Fish and Salmon\n",
    "In a balanced eco system the relationship between small fish (prey) and salmon (predator) can be described mathematically using a Loketta-Volterra model [2-4]\n",
    "\\begin{equation}\n",
    "\\begin{array}{cl}\n",
    "\\frac{d F}{dt}=F-0.02SF,\\\\\n",
    "\\frac{d S}{dt}=-0.05S+0.001 F S,\\\\\n",
    "\\end{array}\n",
    "\\end{equation}\n",
    "this set of equations models the interaction between small fish (F) and salmon (S). \n",
    "\n",
    "The equations can be written in words as:\n",
    "\n",
    "| The rate of change of population | is equal to  | the current population with a control factor|\n",
    "|-----------------------------------|--------------|------------------------------------------------------------------|\n",
    "| The increase in fish population  $\\frac{d F}{dt}$ | is equal to  | the current fish population $F$ minus the amount of fish salmon eat $-0.02FS$ |\n",
    "| The increase in salmon population $\\frac{d S}{dt}$ | is equal to | the current salmon population $-0.05S$ plus the amount of fish salmon eat $+0.001FS$|\n",
    "\n",
    "Or they can be summed up as the salmon are the predators who eat the small fish to survive.\n",
    "\n",
    "Figure 2 shows a simulation of the populations of salmon and small fish from 2000 to 2100, assuming that nothing is added to enviroment.  The salmon population fluxuates between 45 and 55 billion while the small fish population fluctuates from 25 to 85 billion. The equation illustates a relative equilibrium between the two populations ensuring neither population gets too big or too small."
   ]
  },
  {
   "cell_type": "code",
   "execution_count": null,
   "metadata": {},
   "outputs": [],
   "source": [
    "# INITIAL CONDITIONS\n",
    "N=10000\n",
    "time = np.linspace(2000, 2100, N )              # time\n",
    "h=100/N\n",
    "fish=50*np.ones(N) # 60 billions small fish\n",
    "salmon=45*np.ones(N) # 30 billion salmon\n",
    "SMALLFISH = np.array( [1,-0.02])\n",
    "SALMON= np.array([-0.05,0.001])\n",
    "for i in range (1,N):\n",
    "    fish[i]=fish[i-1]+h*fish[i-1]*(SMALLFISH[0]+SMALLFISH[1]*salmon[i-1])\n",
    "    salmon[i]=salmon[i-1]+h*salmon[i-1]*(SALMON[0]+SALMON[1]*fish[i-1])\n",
    "## PLOTTING\n",
    "fig = plt.figure(figsize=(8,4))\n",
    "plt.plot(time, fish, 'r-', label='small fish')\n",
    "plt.plot(time, salmon, 'b-', label='salmon')\n",
    "plt.grid()\n",
    "plt.xlabel('time (years)')\n",
    "plt.ylabel('Population (billions)')\n",
    "plt.title('Figure 2: Predator Prey relationship of Salmon and small fish')\n",
    "plt.legend(loc='best')\n",
    "plt.tight_layout()\n",
    "plt.show()"
   ]
  },
  {
   "cell_type": "markdown",
   "metadata": {},
   "source": [
    "# Humans\n",
    "## Human population growth\n",
    "Humans  are adaptable omnivores who have fire and tools so we are able to eat most animals and plants [5]. This means humans violate this the cyclical relationship. When humans have eaten all of one prey, such as the dodo, we just move on to another prey with seemingly little impact on human population growth. From 1800 to 1900 the human population increased by 60% from 1 billion to 1.6 billion. From 1900 to 2000 the human population has increased by almost 400% from 1.6 to 6 billion. Figure 3 shows the predicted increase in human population (yellow) in billions from 6 billion in 2000 to around 16 billion in 2100. The population should level off as number of foods sources can only sustain so many huamns. This growth can be descibed as a the equation:\n",
    "\\begin{equation}\n",
    "\\frac{d H}{dt}=0.05H-0.003H^2,\n",
    "\\end{equation}\n",
    "where $H$ is human population.\n",
    "The equations can be written in words as:\n",
    "\n",
    "| Rate of change of Population                       | is equal to  | the current population and a control factor                                                     |\n",
    "|----------------------------------------------------|-----------------|------------------------------------------------------------------------------------------------|\n",
    "| The increase in human population  $\\frac{d H}{dt}$ | is equal to  | the current human population $0.05H$ minus a factor to control for over population $-0.003H^2$ |\n",
    "It can be summed up as the human population keeps increasing until there is nothing left to eat."
   ]
  },
  {
   "cell_type": "code",
   "execution_count": null,
   "metadata": {},
   "outputs": [],
   "source": [
    "humans=6*np.ones(N) # 6 billion humans\n",
    "\n",
    "for i in range (1,N):              \n",
    "    humans[i]=humans[i-1]+h*humans[i-1]*(0.05-0.003*humans[i-1]) \n",
    "fig= plt.figure(figsize=(8,4))\n",
    "plt.plot(time, humans, 'y-', label = 'Humans')\n",
    "plt.xlabel('time (yrs)')\n",
    "plt.ylabel('Population (billions)')\n",
    "plt.legend(loc='best')\n",
    "plt.tight_layout()\n",
    "plt.ylim(0,20)\n",
    "plt.title('Figure 3: Human Population')\n",
    "plt.show()"
   ]
  },
  {
   "cell_type": "markdown",
   "metadata": {},
   "source": [
    "## Impact of Humans\n",
    "Due to the increasing human population the demand on food sources is getting highter and higher. This demand could put popular food sources at risk of being eaten into extinction. In the recent decades, governments have tried to address this by introduction quotas and identifying at risk animals. While this can address the direct impact of humans on the ecosystem it does not address the indirect by products of modern life such as microplastics."
   ]
  },
  {
   "cell_type": "markdown",
   "metadata": {},
   "source": [
    "## MicroPlastics and Humans\n",
    "Microplastics is any plastic entity which is approximately less than 5mm in size [6] (http://www.dit.ie/physics/research/microplastics/).\n",
    "The increase in microplastics can be modelled as a relationship with the human population. This can be descrived by the equation:  \n",
    "\\begin{equation}\n",
    "\\begin{array}{cl}\n",
    "\\frac{d P}{dt}=plastic_{rate}H.\n",
    "\\end{array}\n",
    "\\end{equation}\n",
    "\n",
    "The parameter $plastic_{rate}$ is used the describe the relationship between the human population (H) and the rate of increase in microplastics (P) production. \n",
    "\n",
    "| The rate of change of population | is equal to $=$ | the current population with a control factor|\n",
    "|-----------------------------------|--------------|------------------------------------------------------------------|\n",
    "| The increase in microplastics  $\\frac{d P}{dt}$ | is equal to $=$ | the current human population $H$ times the plastic production rate $plastic_{rate}$ |\n",
    "\n",
    "Positive values of production rate mean the more humans, the more microplastics. \n",
    "Even if the production of micropalstics is stopped, the amount of microplastics will remain the same. So even after humans are gone, our plastic foot print will remain."
   ]
  },
  {
   "cell_type": "code",
   "execution_count": null,
   "metadata": {},
   "outputs": [],
   "source": [
    "def plastic_model(plastic_rate):\n",
    "    humans=6*np.ones(N) # 30 billion salmon\n",
    "\n",
    "    plastics=1*np.ones(N) # 1 billion microplastics\n",
    "    for i in range (1,N):              \n",
    "        plastics[i]=plastics[i-1]+h*humans[i-1]*(plastic_rate) \n",
    "        humans[i]=humans[i-1]+h*humans[i-1]*(0.05-0.003*humans[i-1]) \n",
    "\n",
    "    fig= plt.figure(figsize=(8,3))\n",
    "    plt.plot(time, plastics, 'g', label = 'Microplastics')\n",
    "    plt.plot(time, humans, 'y-', label = 'Humans')\n",
    "    plt.xlabel('time (yrs)')\n",
    "    plt.ylabel('Population')\n",
    "    plt.legend(loc='best')\n",
    "    plt.tight_layout()\n",
    "    plt.title('Figure 4: Relationship of Human Population and Microplastics with a plastic rate =  %s'%(plastic_rate))\n",
    "    plt.show()"
   ]
  },
  {
   "cell_type": "markdown",
   "metadata": {},
   "source": [
    "In Figure 4 the rate of microplastic production can be manipulated to illustrate the result of a change in amount of microplastics.  The figure plots modelled microplastics (green) and human population as a function of time from 2000 to 2100. "
   ]
  },
  {
   "cell_type": "code",
   "execution_count": 2,
   "metadata": {},
   "outputs": [
    {
     "ename": "NameError",
     "evalue": "name 'plastic_model' is not defined",
     "output_type": "error",
     "traceback": [
      "\u001b[0;31m---------------------------------------------------------------------------\u001b[0m",
      "\u001b[0;31mNameError\u001b[0m                                 Traceback (most recent call last)",
      "\u001b[0;32m<ipython-input-2-d7a351ca8cc0>\u001b[0m in \u001b[0;36m<module>\u001b[0;34m\u001b[0m\n\u001b[0;32m----> 1\u001b[0;31m \u001b[0mplastic_model\u001b[0m\u001b[0;34m(\u001b[0m\u001b[0;36m0.01\u001b[0m\u001b[0;34m)\u001b[0m\u001b[0;34m;\u001b[0m\u001b[0;34m\u001b[0m\u001b[0;34m\u001b[0m\u001b[0m\n\u001b[0m",
      "\u001b[0;31mNameError\u001b[0m: name 'plastic_model' is not defined"
     ]
    }
   ],
   "source": [
    "plastic_model(0.01);"
   ]
  },
  {
   "cell_type": "markdown",
   "metadata": {},
   "source": [
    "\n",
    "# Microplastics and Fish\n",
    "While fishing quotas account for the direct impact of man on fish it does not account for by-products of modern life like mircroplastics to the ecosystem. It has been documented that fish are now \n",
    "consuming microplastics which can impact the population of fish.  \n",
    "For these reasons we consider microplastics as a predator of small fish.\n",
    "To model the impact of microplastics on small fish (prey) and the knock on effect it has on salmon (prey). \n",
    "\n",
    "To model the negative impact of microplastics on the small fish population an extra term is added to the small fish equation:\n",
    "\\begin{equation}\n",
    "\\begin{array}{cl}\n",
    "\\frac{d F}{dt}=F-0.02SF-0.01FP.\\\\\n",
    "\\end{array}\n",
    "\\end{equation}\n",
    "\n",
    "\n",
    "| The rate of change of population   | is equal to $=$ | the current population with a control factor|\n",
    "|-----------------------------------|-----------------|--------------------------------------------------------------------------------------------------------------------------------------------|\n",
    "| The change in small fish  $\\frac{d F}{dt}$ | is equal to $=$ | the current fish population $F$ minus the amount salmon eat $-0.02SF$ minus the amount that die due to microplastics $-0.01FP$ |\n"
   ]
  },
  {
   "cell_type": "markdown",
   "metadata": {},
   "source": [
    "## The ecosystem model\n",
    "Bringing all these equations together results in a system of four first order differential equations which describe a simple ecosystem of,\n",
    "\n",
    "the population of Small Fish (F),\n",
    "\\begin{equation}\n",
    "\\frac{d F}{dt}=F-0.02SF-0.01FP;\n",
    "\\end{equation}\n",
    "the population of salmon (S),\n",
    "\\begin{equation}\n",
    "\\frac{d S}{dt}=-0.05S+0.001 F S;\n",
    "\\end{equation}\n",
    "plastic production (P),\n",
    "\\begin{equation}\n",
    "\\frac{d P}{dt}=plastic_{rate}H;\n",
    "\\end{equation}\n",
    "and human population (H),\n",
    "\\begin{equation}\n",
    "\\frac{d H}{dt}=0.0001H-0.002H^2+0.0006SH+0.001HF.\n",
    "\\end{equation}\n",
    "The system was modeled from 2000 to the year 2100 are shown in the Figures bellow for different plastic rates. The figures show the small fish population  in red, the salmon population in blue, the plastics in green and human population in yellow. "
   ]
  },
  {
   "cell_type": "code",
   "execution_count": null,
   "metadata": {},
   "outputs": [],
   "source": [
    "def plastic_fish_model(plastic_rate):   \n",
    "    # INITIAL CONDITIONS\n",
    "    fish=50*np.ones(N) # 60 billions small fish\n",
    "    salmon=45*np.ones(N) # 30 billion salmon\n",
    "    plastics=0.001*np.ones(N) # 1 billion microplastics\n",
    "    humans=6*np.ones(N) # 7 billion humans\n",
    "\n",
    "    SMALLFISH = np.array( [1,-0.02,-0.01])\n",
    "    SALMON= np.array([-0.05,0.001,0])\n",
    "    for i in range (1,N):\n",
    "        fish[i]=fish[i-1]+h*fish[i-1]*(SMALLFISH[0]+SMALLFISH[1]*salmon[i-1]+SMALLFISH[2]*(plastics [i-1]))\n",
    "        salmon[i]=salmon[i-1]+h*salmon[i-1]*(SALMON[0]+SALMON[1]*fish[i-1]+SALMON[2]*plastics [i-1])\n",
    "        plastics[i]=plastics[i-1]+h*humans[i-1]*(plastic_rate)\n",
    "        humans[i]=humans[i-1]+h*humans[i-1]*(0.05-0.003*humans[i-1]) \n",
    "    fig = plt.figure(figsize=(8,6))\n",
    "    plt.title('Figure: Impact of plastic rate =  %s on the ecosystem'%(plastic_rate))\n",
    "    plt.plot(time, fish, 'r-', label='small fish')\n",
    "    plt.plot(time, salmon, 'b-', label='salmon')\n",
    "    plt.plot(time, plastics, 'g', label='Microplastics')\n",
    "    plt.plot(time, humans, 'y', label='Humans')\n",
    "    plt.grid()\n",
    "    plt.title('The impact of microplastics')\n",
    "    plt.xlabel('time (years)')\n",
    "    plt.ylabel('Population in Billions')\n",
    "    plt.legend(loc='best')\n",
    "    plt.tight_layout()\n",
    "    plt.show()"
   ]
  },
  {
   "cell_type": "markdown",
   "metadata": {},
   "source": [
    "# Results\n",
    "The figure below shows the output of the model for a plastic rate of 0.05. The introduction of microplastics results in a decrease in the small fish population which then impacts the salmon population as small fish are their primary food source. "
   ]
  },
  {
   "cell_type": "code",
   "execution_count": null,
   "metadata": {},
   "outputs": [],
   "source": [
    "plastic_fish_model(0.05)"
   ]
  },
  {
   "cell_type": "markdown",
   "metadata": {},
   "source": [
    "If the production rate of plastics is doubled to 0.1. The introduction of microplastics in to the ecosystem will lead to the extinction of small fish (red) by 2080 and salmon (blue) will be more or less extinct by 2100. "
   ]
  },
  {
   "cell_type": "code",
   "execution_count": null,
   "metadata": {},
   "outputs": [],
   "source": [
    "plastic_fish_model(0.1)"
   ]
  },
  {
   "cell_type": "markdown",
   "metadata": {},
   "source": [
    "# Open Questions\n",
    "\n",
    "The model shows the destructive impact of microplastics on a simple ecosystem model of small fish, salmon, microplastics and humans. Mathematical models of this type can be used to discuss\n",
    "\n",
    "The immediate questions that arise from this simulation are:\n",
    "1. What is our current rate of plastic production?\n",
    "2. How will the extinction of small fish impact the human population?\n",
    "3. How can we do to prevent this from happening?\n"
   ]
  },
  {
   "cell_type": "markdown",
   "metadata": {
    "collapsed": true
   },
   "source": [
    "# References\n",
    "\n",
    "[1] Lynx-hare  fur  trade.https://theglyptodon.wordpress.com/2011/05/02/the-fur-trades-records/.  Accessed:2018-03-20.\n",
    "\n",
    "[2] Wikipedia contributors. (2018, July 27). Lotka–Volterra equations. In Wikipedia, The Free Encyclopedia. Retrieved 09:33, September 7, 2018, from https://en.wikipedia.org/w/index.php?title=Lotka%E2%80%93Volterra_equations&oldid=852191432 \n",
    "\n",
    "[3] Alfred J Lotka.   Analytical note on certain rhythmic  relations inorganic  systems.Proceedings of the National Academy of Sciences,6(7):410–415,1920.\n",
    "\n",
    "[4]  Vito Volterra.  Fluctuations in the abundance of a species consid-ered mathematically.Nature,118:558–560,1926.\n",
    "\n",
    "[5] Harari, Yuval N. (2015). Sapiens : a brief history of humankind. New York :Harper.\n",
    "\n",
    "[6] Gordon Chambers, (2017) Microplastics, Retrieved 09:33, September 7, 2018, http://www.dit.ie/physics/research/microplastics/\n"
   ]
  },
  {
   "cell_type": "code",
   "execution_count": null,
   "metadata": {},
   "outputs": [],
   "source": []
  }
 ],
 "metadata": {
  "kernelspec": {
   "display_name": "Python 3",
   "language": "python",
   "name": "python3"
  },
  "language_info": {
   "codemirror_mode": {
    "name": "ipython",
    "version": 3
   },
   "file_extension": ".py",
   "mimetype": "text/x-python",
   "name": "python",
   "nbconvert_exporter": "python",
   "pygments_lexer": "ipython3",
   "version": "3.7.3"
  },
  "widgets": {
   "application/vnd.jupyter.widget-state+json": {
    "state": {
     "0ab1e4bdf7fd40de87958c3dc655aa27": {
      "model_module": "@jupyter-widgets/base",
      "model_module_version": "1.0.0",
      "model_name": "LayoutModel",
      "state": {}
     },
     "0b084f71c18946649d3210dd5fd509e4": {
      "model_module": "@jupyter-widgets/controls",
      "model_module_version": "1.0.0",
      "model_name": "SliderStyleModel",
      "state": {
       "description_width": ""
      }
     },
     "13fe04cbee814b7d895bf558299b327c": {
      "model_module": "@jupyter-widgets/controls",
      "model_module_version": "1.0.0",
      "model_name": "SliderStyleModel",
      "state": {
       "description_width": ""
      }
     },
     "2d427993a61346e5bb57ebea3ff33f3e": {
      "model_module": "@jupyter-widgets/base",
      "model_module_version": "1.0.0",
      "model_name": "LayoutModel",
      "state": {}
     },
     "3039550a61de481bb564e850c09fe5f8": {
      "model_module": "@jupyter-widgets/base",
      "model_module_version": "1.0.0",
      "model_name": "LayoutModel",
      "state": {}
     },
     "4e2c270b4a8c4a22bb60cfd09c9f645e": {
      "model_module": "@jupyter-widgets/base",
      "model_module_version": "1.0.0",
      "model_name": "LayoutModel",
      "state": {}
     },
     "5a9487ddadc248d496aed36da31bbacb": {
      "model_module": "@jupyter-widgets/base",
      "model_module_version": "1.0.0",
      "model_name": "LayoutModel",
      "state": {}
     },
     "61ca900ca61a418fa309db7dded538ac": {
      "model_module": "@jupyter-widgets/controls",
      "model_module_version": "1.0.0",
      "model_name": "SliderStyleModel",
      "state": {
       "description_width": ""
      }
     },
     "73bc8654cd2841988b68d85081f8ec1a": {
      "model_module": "@jupyter-widgets/output",
      "model_module_version": "1.0.0",
      "model_name": "OutputModel",
      "state": {
       "layout": "IPY_MODEL_f7245f6cb9cf45828d089eed98c7441e",
       "outputs": [
        {
         "data": {
          "image/png": "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\n",
          "text/plain": "<Figure size 576x432 with 1 Axes>"
         },
         "metadata": {},
         "output_type": "display_data"
        }
       ]
      }
     },
     "8aef7093f54c489f98fe3fc29dc8b72c": {
      "model_module": "@jupyter-widgets/controls",
      "model_module_version": "1.0.0",
      "model_name": "VBoxModel",
      "state": {
       "_dom_classes": [
        "widget-interact"
       ],
       "children": [
        "IPY_MODEL_bed94451cc20416dae44dbdc1c37c49d",
        "IPY_MODEL_e988cfbb903647529d42d61bdb8a2923"
       ],
       "layout": "IPY_MODEL_2d427993a61346e5bb57ebea3ff33f3e"
      }
     },
     "a0e87caef8f1468fbfa6bec83c8594a2": {
      "model_module": "@jupyter-widgets/base",
      "model_module_version": "1.0.0",
      "model_name": "LayoutModel",
      "state": {}
     },
     "a2e6ba9787ca45f99a981f8e48883364": {
      "model_module": "@jupyter-widgets/controls",
      "model_module_version": "1.0.0",
      "model_name": "SliderStyleModel",
      "state": {
       "description_width": ""
      }
     },
     "a80c09331f0340c992c5b54458a6b2ed": {
      "model_module": "@jupyter-widgets/controls",
      "model_module_version": "1.0.0",
      "model_name": "FloatSliderModel",
      "state": {
       "layout": "IPY_MODEL_5a9487ddadc248d496aed36da31bbacb",
       "max": 1,
       "min": 0.001,
       "step": 0.01,
       "style": "IPY_MODEL_61ca900ca61a418fa309db7dded538ac",
       "value": 0.1
      }
     },
     "b23bd8ce81ee4b1382734f9d20c3193a": {
      "model_module": "@jupyter-widgets/controls",
      "model_module_version": "1.0.0",
      "model_name": "VBoxModel",
      "state": {
       "_dom_classes": [
        "widget-interact"
       ],
       "children": [
        "IPY_MODEL_cfd4b2d0198341ba89d72f3505e61f6c",
        "IPY_MODEL_73bc8654cd2841988b68d85081f8ec1a"
       ],
       "layout": "IPY_MODEL_de012860bb284bbcb51a68632981b879"
      }
     },
     "b3b5e88deb0c41308f96713a4cacd93f": {
      "model_module": "@jupyter-widgets/base",
      "model_module_version": "1.0.0",
      "model_name": "LayoutModel",
      "state": {}
     },
     "b49e8f9e028742d5a8b20fa27d3daccc": {
      "model_module": "@jupyter-widgets/controls",
      "model_module_version": "1.0.0",
      "model_name": "FloatSliderModel",
      "state": {
       "layout": "IPY_MODEL_a0e87caef8f1468fbfa6bec83c8594a2",
       "max": 1,
       "min": 0.001,
       "step": 0.01,
       "style": "IPY_MODEL_faedb0a05f2b4da08c2021111a9d34b8",
       "value": 0.1
      }
     },
     "bed94451cc20416dae44dbdc1c37c49d": {
      "model_module": "@jupyter-widgets/controls",
      "model_module_version": "1.0.0",
      "model_name": "FloatSliderModel",
      "state": {
       "description": "plastic_rate",
       "layout": "IPY_MODEL_b3b5e88deb0c41308f96713a4cacd93f",
       "max": 1,
       "min": 0.001,
       "step": 0.01,
       "style": "IPY_MODEL_0b084f71c18946649d3210dd5fd509e4",
       "value": 0.1
      }
     },
     "c36b25a5dd4d436f9801370d6c6b89de": {
      "model_module": "@jupyter-widgets/controls",
      "model_module_version": "1.0.0",
      "model_name": "FloatSliderModel",
      "state": {
       "layout": "IPY_MODEL_4e2c270b4a8c4a22bb60cfd09c9f645e",
       "max": 1,
       "min": 0.001,
       "step": 0.01,
       "style": "IPY_MODEL_d8a9448de6604715a8174ea7c47e99d1",
       "value": 0.1
      }
     },
     "cd302c519a574a849b210a490248391b": {
      "model_module": "@jupyter-widgets/controls",
      "model_module_version": "1.0.0",
      "model_name": "FloatSliderModel",
      "state": {
       "layout": "IPY_MODEL_0ab1e4bdf7fd40de87958c3dc655aa27",
       "max": 1,
       "min": 0.001,
       "step": 0.01,
       "style": "IPY_MODEL_a2e6ba9787ca45f99a981f8e48883364",
       "value": 0.1
      }
     },
     "cfd4b2d0198341ba89d72f3505e61f6c": {
      "model_module": "@jupyter-widgets/controls",
      "model_module_version": "1.0.0",
      "model_name": "FloatSliderModel",
      "state": {
       "description": "plastic_rate",
       "layout": "IPY_MODEL_d54a88096a9945a8b203813aeb249805",
       "max": 1,
       "min": 0.001,
       "step": 0.01,
       "style": "IPY_MODEL_13fe04cbee814b7d895bf558299b327c",
       "value": 0.1
      }
     },
     "d54a88096a9945a8b203813aeb249805": {
      "model_module": "@jupyter-widgets/base",
      "model_module_version": "1.0.0",
      "model_name": "LayoutModel",
      "state": {}
     },
     "d8a9448de6604715a8174ea7c47e99d1": {
      "model_module": "@jupyter-widgets/controls",
      "model_module_version": "1.0.0",
      "model_name": "SliderStyleModel",
      "state": {
       "description_width": ""
      }
     },
     "de012860bb284bbcb51a68632981b879": {
      "model_module": "@jupyter-widgets/base",
      "model_module_version": "1.0.0",
      "model_name": "LayoutModel",
      "state": {}
     },
     "e988cfbb903647529d42d61bdb8a2923": {
      "model_module": "@jupyter-widgets/output",
      "model_module_version": "1.0.0",
      "model_name": "OutputModel",
      "state": {
       "layout": "IPY_MODEL_3039550a61de481bb564e850c09fe5f8",
       "outputs": [
        {
         "data": {
          "image/png": "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\n",
          "text/plain": "<Figure size 576x216 with 1 Axes>"
         },
         "metadata": {},
         "output_type": "display_data"
        }
       ]
      }
     },
     "f7245f6cb9cf45828d089eed98c7441e": {
      "model_module": "@jupyter-widgets/base",
      "model_module_version": "1.0.0",
      "model_name": "LayoutModel",
      "state": {}
     },
     "faedb0a05f2b4da08c2021111a9d34b8": {
      "model_module": "@jupyter-widgets/controls",
      "model_module_version": "1.0.0",
      "model_name": "SliderStyleModel",
      "state": {
       "description_width": ""
      }
     }
    },
    "version_major": 2,
    "version_minor": 0
   }
  }
 },
 "nbformat": 4,
 "nbformat_minor": 1
}
